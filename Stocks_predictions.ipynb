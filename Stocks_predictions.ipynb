{
 "cells": [
  {
   "attachments": {},
   "cell_type": "markdown",
   "metadata": {},
   "source": [
    "# Loading libraries and data \n"
   ]
  },
  {
   "cell_type": "code",
   "execution_count": 2,
   "metadata": {},
   "outputs": [],
   "source": [
    "import pandas as pd\n",
    "import numpy as np\n",
    "\n",
    "market = pd.read_csv(\"AAPL Historical Data.csv\", decimal=\",\")\n",
    "market = pd.DataFrame(market)"
   ]
  },
  {
   "cell_type": "code",
   "execution_count": 3,
   "metadata": {},
   "outputs": [
    {
     "name": "stdout",
     "output_type": "stream",
     "text": [
      "         Date   Price    Open    High     Low    Vol. Change %\n",
      "0  05/01/2023  169.59  169.28  170.45  168.64  49.39M   -0.05%\n",
      "1  04/28/2023  169.68  168.49  169.85  167.88  55.28M    0.75%\n",
      "2  04/27/2023  168.41  165.19  168.56  165.19  64.22M    2.84%\n",
      "3  04/26/2023  163.76  163.05  165.28  162.80  44.11M   -0.01%\n",
      "4  04/25/2023  163.77  165.19  166.30  163.73  48.17M   -0.94%\n",
      "5  04/24/2023  165.33  165.00  165.60  163.89  38.99M    0.19%\n",
      "6  04/21/2023  165.02  165.05  166.45  164.49  58.34M   -0.98%\n",
      "7  04/20/2023  166.65  166.09  167.87  165.56  52.46M   -0.58%\n",
      "8  04/19/2023  167.63  165.80  168.16  165.54  47.24M    0.70%\n",
      "9  04/18/2023  166.47  166.10  167.41  165.65  48.41M    0.75%\n",
      "(2519, 7)\n",
      "Date        object\n",
      "Price       object\n",
      "Open        object\n",
      "High        object\n",
      "Low         object\n",
      "Vol.        object\n",
      "Change %    object\n",
      "dtype: object\n"
     ]
    }
   ],
   "source": [
    "# Market first 10 rows\n",
    "print(market.head(10))\n",
    "\n",
    "# Market data frame shape\n",
    "print(market.shape)\n",
    "\n",
    "# Market data frame types\n",
    "print(market.dtypes)"
   ]
  },
  {
   "cell_type": "code",
   "execution_count": null,
   "metadata": {},
   "outputs": [],
   "source": []
  }
 ],
 "metadata": {
  "kernelspec": {
   "display_name": "Python 3",
   "language": "python",
   "name": "python3"
  },
  "language_info": {
   "codemirror_mode": {
    "name": "ipython",
    "version": 3
   },
   "file_extension": ".py",
   "mimetype": "text/x-python",
   "name": "python",
   "nbconvert_exporter": "python",
   "pygments_lexer": "ipython3",
   "version": "3.11.3"
  },
  "orig_nbformat": 4
 },
 "nbformat": 4,
 "nbformat_minor": 2
}
