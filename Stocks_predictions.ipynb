{
 "cells": [
  {
   "attachments": {},
   "cell_type": "markdown",
   "metadata": {},
   "source": [
    "# Loading libraries and data \n"
   ]
  },
  {
   "cell_type": "code",
   "execution_count": 57,
   "metadata": {},
   "outputs": [],
   "source": [
    "import pandas as pd\n",
    "import numpy as np\n",
    "\n",
    "market = pd.read_csv(\"AAPL Historical Data.csv\", decimal=\",\")\n",
    "market = pd.DataFrame(market)"
   ]
  },
  {
   "attachments": {},
   "cell_type": "markdown",
   "metadata": {},
   "source": [
    "# Pre-processing data for analysis"
   ]
  },
  {
   "cell_type": "code",
   "execution_count": 58,
   "metadata": {},
   "outputs": [
    {
     "name": "stdout",
     "output_type": "stream",
     "text": [
      "         Date   Price    Open    High     Low    Vol. Change %\n",
      "0  05/01/2023  169.59  169.28  170.45  168.64  49.39M   -0.05%\n",
      "1  04/28/2023  169.68  168.49  169.85  167.88  55.28M    0.75%\n",
      "2  04/27/2023  168.41  165.19  168.56  165.19  64.22M    2.84%\n",
      "3  04/26/2023  163.76  163.05  165.28  162.80  44.11M   -0.01%\n",
      "4  04/25/2023  163.77  165.19  166.30  163.73  48.17M   -0.94%\n",
      "5  04/24/2023  165.33  165.00  165.60  163.89  38.99M    0.19%\n",
      "6  04/21/2023  165.02  165.05  166.45  164.49  58.34M   -0.98%\n",
      "7  04/20/2023  166.65  166.09  167.87  165.56  52.46M   -0.58%\n",
      "8  04/19/2023  167.63  165.80  168.16  165.54  47.24M    0.70%\n",
      "9  04/18/2023  166.47  166.10  167.41  165.65  48.41M    0.75%\n",
      "(2519, 7)\n",
      "Date        object\n",
      "Price       object\n",
      "Open        object\n",
      "High        object\n",
      "Low         object\n",
      "Vol.        object\n",
      "Change %    object\n",
      "dtype: object\n"
     ]
    }
   ],
   "source": [
    "# Market first 10 rows\n",
    "print(market.head(10))\n",
    "\n",
    "# Market data frame shape\n",
    "print(market.shape)\n",
    "\n",
    "# Market data frame types\n",
    "print(market.dtypes)\n",
    "\n",
    "# Remove all letters in dataframe\n",
    "market = market.replace('[^0-9]+', '', regex=True)\n",
    "\n",
    "## Changing col name \"Vol.\" to be more usefull\n",
    "market = market.rename(columns = {\"Vol.\":\"Vol\"})\n",
    "### Drop also change%\n",
    "market = market.drop(columns = \"Change %\")"
   ]
  },
  {
   "cell_type": "code",
   "execution_count": 59,
   "metadata": {},
   "outputs": [
    {
     "name": "stdout",
     "output_type": "stream",
     "text": [
      "Date      object\n",
      "Price    float64\n",
      "Open     float64\n",
      "High     float64\n",
      "Low      float64\n",
      "Vol      float64\n",
      "dtype: object\n"
     ]
    }
   ],
   "source": [
    "# Convert data\n",
    "market[[\"Price\", \"Open\", \"High\", \"Low\", \"Vol\"]] = market[[\"Price\", \"Open\", \"High\", \"Low\", \"Vol\"]].astype(float)\n",
    "\n",
    "print(market.dtypes)"
   ]
  },
  {
   "attachments": {},
   "cell_type": "markdown",
   "metadata": {},
   "source": [
    "# Desctriptive statistics"
   ]
  },
  {
   "cell_type": "code",
   "execution_count": 60,
   "metadata": {},
   "outputs": [
    {
     "data": {
      "text/html": [
       "<div>\n",
       "<style scoped>\n",
       "    .dataframe tbody tr th:only-of-type {\n",
       "        vertical-align: middle;\n",
       "    }\n",
       "\n",
       "    .dataframe tbody tr th {\n",
       "        vertical-align: top;\n",
       "    }\n",
       "\n",
       "    .dataframe thead th {\n",
       "        text-align: right;\n",
       "    }\n",
       "</style>\n",
       "<table border=\"1\" class=\"dataframe\">\n",
       "  <thead>\n",
       "    <tr style=\"text-align: right;\">\n",
       "      <th></th>\n",
       "      <th>Price</th>\n",
       "      <th>Open</th>\n",
       "      <th>High</th>\n",
       "      <th>Low</th>\n",
       "      <th>Vol</th>\n",
       "    </tr>\n",
       "  </thead>\n",
       "  <tbody>\n",
       "    <tr>\n",
       "      <th>count</th>\n",
       "      <td>2519.000000</td>\n",
       "      <td>2519.000000</td>\n",
       "      <td>2519.000000</td>\n",
       "      <td>2519.000000</td>\n",
       "      <td>2518.000000</td>\n",
       "    </tr>\n",
       "    <tr>\n",
       "      <th>mean</th>\n",
       "      <td>6684.670504</td>\n",
       "      <td>6679.204049</td>\n",
       "      <td>6755.195713</td>\n",
       "      <td>6607.434299</td>\n",
       "      <td>15618.103654</td>\n",
       "    </tr>\n",
       "    <tr>\n",
       "      <th>std</th>\n",
       "      <td>5047.569997</td>\n",
       "      <td>5041.917160</td>\n",
       "      <td>5108.268469</td>\n",
       "      <td>4980.048166</td>\n",
       "      <td>10101.157983</td>\n",
       "    </tr>\n",
       "    <tr>\n",
       "      <th>min</th>\n",
       "      <td>1406.000000</td>\n",
       "      <td>1398.000000</td>\n",
       "      <td>1430.000000</td>\n",
       "      <td>1389.000000</td>\n",
       "      <td>107.000000</td>\n",
       "    </tr>\n",
       "    <tr>\n",
       "      <th>25%</th>\n",
       "      <td>2786.500000</td>\n",
       "      <td>2784.000000</td>\n",
       "      <td>2809.000000</td>\n",
       "      <td>2746.500000</td>\n",
       "      <td>8844.500000</td>\n",
       "    </tr>\n",
       "    <tr>\n",
       "      <th>50%</th>\n",
       "      <td>4327.000000</td>\n",
       "      <td>4330.000000</td>\n",
       "      <td>4370.000000</td>\n",
       "      <td>4297.000000</td>\n",
       "      <td>12446.500000</td>\n",
       "    </tr>\n",
       "    <tr>\n",
       "      <th>75%</th>\n",
       "      <td>11866.500000</td>\n",
       "      <td>11868.000000</td>\n",
       "      <td>12011.000000</td>\n",
       "      <td>11663.000000</td>\n",
       "      <td>19235.250000</td>\n",
       "    </tr>\n",
       "    <tr>\n",
       "      <th>max</th>\n",
       "      <td>18201.000000</td>\n",
       "      <td>18263.000000</td>\n",
       "      <td>18294.000000</td>\n",
       "      <td>17912.000000</td>\n",
       "      <td>89869.000000</td>\n",
       "    </tr>\n",
       "  </tbody>\n",
       "</table>\n",
       "</div>"
      ],
      "text/plain": [
       "              Price          Open          High           Low           Vol\n",
       "count   2519.000000   2519.000000   2519.000000   2519.000000   2518.000000\n",
       "mean    6684.670504   6679.204049   6755.195713   6607.434299  15618.103654\n",
       "std     5047.569997   5041.917160   5108.268469   4980.048166  10101.157983\n",
       "min     1406.000000   1398.000000   1430.000000   1389.000000    107.000000\n",
       "25%     2786.500000   2784.000000   2809.000000   2746.500000   8844.500000\n",
       "50%     4327.000000   4330.000000   4370.000000   4297.000000  12446.500000\n",
       "75%    11866.500000  11868.000000  12011.000000  11663.000000  19235.250000\n",
       "max    18201.000000  18263.000000  18294.000000  17912.000000  89869.000000"
      ]
     },
     "execution_count": 60,
     "metadata": {},
     "output_type": "execute_result"
    }
   ],
   "source": [
    "market.describe()"
   ]
  }
 ],
 "metadata": {
  "kernelspec": {
   "display_name": "Python 3",
   "language": "python",
   "name": "python3"
  },
  "language_info": {
   "codemirror_mode": {
    "name": "ipython",
    "version": 3
   },
   "file_extension": ".py",
   "mimetype": "text/x-python",
   "name": "python",
   "nbconvert_exporter": "python",
   "pygments_lexer": "ipython3",
   "version": "3.11.3"
  },
  "orig_nbformat": 4
 },
 "nbformat": 4,
 "nbformat_minor": 2
}
